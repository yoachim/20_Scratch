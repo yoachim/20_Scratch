{
 "cells": [
  {
   "cell_type": "code",
   "execution_count": 1,
   "id": "eb6550c3",
   "metadata": {},
   "outputs": [],
   "source": [
    "# Let's try to make an alt-az WCS object and see if it works properly"
   ]
  },
  {
   "cell_type": "code",
   "execution_count": 11,
   "id": "c98b1741",
   "metadata": {},
   "outputs": [],
   "source": [
    "import numpy as np\n",
    "from astropy import wcs\n",
    "from astropy import units as u\n"
   ]
  },
  {
   "cell_type": "code",
   "execution_count": 2,
   "id": "7186f178",
   "metadata": {},
   "outputs": [],
   "source": [
    "from astropy.wcs.wcsapi.fitswcs import custom_ctype_to_ucd_mapping\n",
    "#custom_ctype_to_ucd_mapping({'ALT': 'custom:pos.aa.lon', 'AZ': 'custom:pos.aa.lat'})\n",
    "#custom_ctype_to_ucd_mapping({'ALT': 'pos.eq.ra', 'AZ': 'pos.eq.ra'})\n",
    "\n",
    "#custom_ctype_to_ucd_mapping({'GLON': 'pos.galactic.lon', 'GLAT': 'pos.galactic.lat'})\n",
    "#custom_ctype_to_ucd_mapping({'ALAT': 'custom:pos.aa.lat', 'ALON': 'custom:pos.aa.lon'})\n"
   ]
  },
  {
   "cell_type": "code",
   "execution_count": 3,
   "id": "557edbb3",
   "metadata": {},
   "outputs": [],
   "source": [
    "w = wcs.WCS(naxis=2)\n",
    "# From previous all-sky fits\n",
    "x0 = np.array([2.87e+03,   1.98e+03,  1., 1., .036,\n",
    "        0.0027,  0.00295,   -0.0359])\n",
    "w.wcs.crpix = [x0[0], x0[1]]\n",
    "w.wcs.cdelt = [x0[2], x0[3]]\n",
    "w.wcs.pc = x0[4:8].reshape((2, 2))\n",
    "# While this says RA,DEC we are going to treat it as an azimuth, altitude projection\n",
    "#w.wcs.ctype = [\"AZ---ZEA\", \"ALT--ZEA\"]\n",
    "w.wcs.ctype = [\"ALON-ZEA\", \"ALAT-ZEA\"]\n"
   ]
  },
  {
   "cell_type": "code",
   "execution_count": 4,
   "id": "a5113e5e",
   "metadata": {},
   "outputs": [
    {
     "data": {
      "text/plain": [
       "[None, None]"
      ]
     },
     "execution_count": 4,
     "metadata": {},
     "output_type": "execute_result"
    }
   ],
   "source": [
    "w.world_axis_physical_types"
   ]
  },
  {
   "cell_type": "code",
   "execution_count": 5,
   "id": "19de30cd",
   "metadata": {},
   "outputs": [
    {
     "data": {
      "text/plain": [
       "(array(277.57248565), array(22.78564903))"
      ]
     },
     "execution_count": 5,
     "metadata": {},
     "output_type": "execute_result"
    }
   ],
   "source": [
    "w.pixel_to_world_values(1000,1000)"
   ]
  },
  {
   "cell_type": "code",
   "execution_count": 68,
   "id": "e5825c2e",
   "metadata": {},
   "outputs": [
    {
     "data": {
      "text/plain": [
       "[<Quantity [277.57248565] deg>, <Quantity [22.78564903] deg>]"
      ]
     },
     "execution_count": 68,
     "metadata": {},
     "output_type": "execute_result"
    }
   ],
   "source": [
    "w.pixel_to_world([1000],[1000])"
   ]
  },
  {
   "cell_type": "code",
   "execution_count": 13,
   "id": "2cc64090",
   "metadata": {},
   "outputs": [
    {
     "data": {
      "text/plain": [
       "(array(988.48413151), array(998.64686229))"
      ]
     },
     "execution_count": 13,
     "metadata": {},
     "output_type": "execute_result"
    }
   ],
   "source": [
    "w.world_to_pixel(277*u.deg, 22.7*u.deg)"
   ]
  },
  {
   "cell_type": "code",
   "execution_count": null,
   "id": "25aeeb16",
   "metadata": {},
   "outputs": [],
   "source": []
  }
 ],
 "metadata": {
  "kernelspec": {
   "display_name": "Python 3",
   "language": "python",
   "name": "python3"
  },
  "language_info": {
   "codemirror_mode": {
    "name": "ipython",
    "version": 3
   },
   "file_extension": ".py",
   "mimetype": "text/x-python",
   "name": "python",
   "nbconvert_exporter": "python",
   "pygments_lexer": "ipython3",
   "version": "3.9.2"
  }
 },
 "nbformat": 4,
 "nbformat_minor": 5
}
